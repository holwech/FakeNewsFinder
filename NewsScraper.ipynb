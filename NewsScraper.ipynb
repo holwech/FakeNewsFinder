{
 "cells": [
  {
   "cell_type": "code",
   "execution_count": null,
   "metadata": {
    "collapsed": true
   },
   "outputs": [],
   "source": [
    "import feedparser as fp\n",
    "import json\n",
    "import newspaper\n",
    "from newspaper import Article\n",
    "from collections import namedtuple\n",
    "\n",
    "data = {}\n",
    "data['newspapers'] = {}"
   ]
  },
  {
   "cell_type": "code",
   "execution_count": null,
   "metadata": {},
   "outputs": [],
   "source": [
    "with open('NewsPapersRSS.json') as data_file:\n",
    "    RSS = json.load(data_file)"
   ]
  },
  {
   "cell_type": "code",
   "execution_count": 173,
   "metadata": {},
   "outputs": [
    {
     "name": "stdout",
     "output_type": "stream",
     "text": [
      "cnn {'link': 'http://edition.cnn.com/', 'rss': 'http: //rss.cnn.com/rss/edition.rss'}\n",
      "bbc {'link': 'http://www.bbc.com/', 'rss': 'http://feeds.bbci.co.uk/news/rss.xml'}\n",
      "nrk {'link': 'https://www.nrk.no/', 'rss': 'http://www.nrk.no/toppsaker.rss'}\n",
      "theguardian {'link': 'https://www.theguardian.com/international', 'rss': 'https://www.theguardian.com/uk/rss'}\n"
     ]
    }
   ],
   "source": [
    "for key, value in RSS.items() :\n",
    "    print (key, value)"
   ]
  },
  {
   "cell_type": "code",
   "execution_count": null,
   "metadata": {},
   "outputs": [],
   "source": [
    "for company, value in RSS.items():\n",
    "    d = fp.parse(value['rss'])\n",
    "    newsPaper = {\n",
    "        \"rss\": value['rss'],\n",
    "        \"articles\": []\n",
    "    }\n",
    "    for entry in d.entries:\n",
    "        if hasattr(entry, 'published'):\n",
    "            article = {}\n",
    "            article['link'] = entry.link\n",
    "            article['published'] = entry.published\n",
    "            content = Article(entry.link)\n",
    "            content.download()\n",
    "            content.parse()\n",
    "            article['title'] = content.title\n",
    "            article['text'] = content.text\n",
    "            newsPaper['articles'].append(article)\n",
    "    data['newspapers'][company] = (newsPaper)"
   ]
  },
  {
   "cell_type": "code",
   "execution_count": null,
   "metadata": {
    "collapsed": true
   },
   "outputs": [],
   "source": [
    "try:\n",
    "    with open('scraped_articles_rss.json', 'w') as outfile:\n",
    "        json.dump(data, outfile)\n",
    "except:\n",
    "    print('Sad :(')"
   ]
  },
  {
   "cell_type": "code",
   "execution_count": null,
   "metadata": {},
   "outputs": [],
   "source": [
    "for key, value in RSS.items():\n",
    "    print(value['link])"
   ]
  },
  {
   "cell_type": "code",
   "execution_count": null,
   "metadata": {
    "collapsed": true
   },
   "outputs": [],
   "source": []
  },
  {
   "cell_type": "code",
   "execution_count": null,
   "metadata": {
    "collapsed": true
   },
   "outputs": [],
   "source": []
  }
 ],
 "metadata": {
  "kernelspec": {
   "display_name": "Python 3",
   "language": "python",
   "name": "python3"
  },
  "language_info": {
   "codemirror_mode": {
    "name": "ipython",
    "version": 3
   },
   "file_extension": ".py",
   "mimetype": "text/x-python",
   "name": "python",
   "nbconvert_exporter": "python",
   "pygments_lexer": "ipython3",
   "version": "3.5.3"
  }
 },
 "nbformat": 4,
 "nbformat_minor": 1
}
