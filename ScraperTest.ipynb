{
 "cells": [
  {
   "cell_type": "code",
   "execution_count": 32,
   "metadata": {
    "collapsed": true
   },
   "outputs": [],
   "source": [
    "import feedparser as fp\n",
    "import json"
   ]
  },
  {
   "cell_type": "code",
   "execution_count": 33,
   "metadata": {},
   "outputs": [
    {
     "data": {
      "text/plain": [
       "'Siste saker fra nrk.no'"
      ]
     },
     "execution_count": 33,
     "metadata": {},
     "output_type": "execute_result"
    }
   ],
   "source": [
    "d = fp.parse('http://www.nrk.no/toppsaker.rss')\n",
    "d.feed.description"
   ]
  },
  {
   "cell_type": "code",
   "execution_count": 34,
   "metadata": {},
   "outputs": [
    {
     "data": {
      "text/plain": [
       "{'guidislink': False,\n",
       " 'id': 'https://www.nrk.no/sport/ingebrigtsen-brodrene-rakk-ikke-frem-til-lag-em-1.13574361',\n",
       " 'link': 'https://www.nrk.no/sport/ingebrigtsen-brodrene-rakk-ikke-frem-til-lag-em-1.13574361',\n",
       " 'links': [{'href': 'https://www.nrk.no/sport/ingebrigtsen-brodrene-rakk-ikke-frem-til-lag-em-1.13574361',\n",
       "   'rel': 'alternate',\n",
       "   'type': 'text/html'},\n",
       "  {'href': 'https://gfx.nrk.no/7F_nxUPQ0uS_DYUYrWcp2Q0_3Lapic9ZaYkTCSfjOvDw',\n",
       "   'rel': 'enclosure',\n",
       "   'type': 'image/jpeg'}],\n",
       " 'published': 'Sat, 24 Jun 2017 07:08:32 GMT',\n",
       " 'published_parsed': time.struct_time(tm_year=2017, tm_mon=6, tm_mday=24, tm_hour=7, tm_min=8, tm_sec=32, tm_wday=5, tm_yday=175, tm_isdst=0),\n",
       " 'source': {'href': 'https://www.nrk.no/toppsaker.rss'},\n",
       " 'summary': 'Filip og Jakob Ingebrigtsen var veldig viktige for at Norge skal rykke opp til øverste nivå i lag-EM. Nå setter en kansellert fly en stopper for duoens deltakelse i Finland.',\n",
       " 'summary_detail': {'base': 'http://www.nrk.no/toppsaker.rss',\n",
       "  'language': None,\n",
       "  'type': 'text/html',\n",
       "  'value': 'Filip og Jakob Ingebrigtsen var veldig viktige for at Norge skal rykke opp til øverste nivå i lag-EM. Nå setter en kansellert fly en stopper for duoens deltakelse i Finland.'},\n",
       " 'tags': [{'label': None, 'scheme': None, 'term': 'Friidrett'}],\n",
       " 'title': 'Ingebrigtsen-brødrene rakk ikke frem til lag-EM',\n",
       " 'title_detail': {'base': 'http://www.nrk.no/toppsaker.rss',\n",
       "  'language': None,\n",
       "  'type': 'text/plain',\n",
       "  'value': 'Ingebrigtsen-brødrene rakk ikke frem til lag-EM'}}"
      ]
     },
     "execution_count": 34,
     "metadata": {},
     "output_type": "execute_result"
    }
   ],
   "source": [
    "d.entries[0]"
   ]
  },
  {
   "cell_type": "code",
   "execution_count": 35,
   "metadata": {},
   "outputs": [
    {
     "data": {
      "text/plain": [
       "100"
      ]
     },
     "execution_count": 35,
     "metadata": {},
     "output_type": "execute_result"
    }
   ],
   "source": [
    "len(d.entries)"
   ]
  },
  {
   "cell_type": "code",
   "execution_count": 36,
   "metadata": {},
   "outputs": [
    {
     "data": {
      "text/plain": [
       "{'link': 'https://www.nrk.no/sport/ingebrigtsen-brodrene-rakk-ikke-frem-til-lag-em-1.13574361',\n",
       " 'published': 'Sat, 24 Jun 2017 07:08:32 GMT',\n",
       " 'published_parsed': time.struct_time(tm_year=2017, tm_mon=6, tm_mday=24, tm_hour=7, tm_min=8, tm_sec=32, tm_wday=5, tm_yday=175, tm_isdst=0),\n",
       " 'summary': 'Filip og Jakob Ingebrigtsen var veldig viktige for at Norge skal rykke opp til øverste nivå i lag-EM. Nå setter en kansellert fly en stopper for duoens deltakelse i Finland.'}"
      ]
     },
     "execution_count": 36,
     "metadata": {},
     "output_type": "execute_result"
    }
   ],
   "source": [
    "dataTest = {\n",
    "    'link': d.entries[0].link,\n",
    "    'published': d.entries[0].published,\n",
    "    'published_parsed': d.entries[0].published_parsed,\n",
    "    'summary': d.entries[0].summary\n",
    "}\n",
    "dataTest"
   ]
  },
  {
   "cell_type": "code",
   "execution_count": 37,
   "metadata": {},
   "outputs": [
    {
     "data": {
      "text/plain": [
       "time.struct_time(tm_year=2017, tm_mon=6, tm_mday=24, tm_hour=7, tm_min=8, tm_sec=32, tm_wday=5, tm_yday=175, tm_isdst=0)"
      ]
     },
     "execution_count": 37,
     "metadata": {},
     "output_type": "execute_result"
    }
   ],
   "source": [
    "d.entries[0].published_parsed"
   ]
  },
  {
   "cell_type": "code",
   "execution_count": 38,
   "metadata": {},
   "outputs": [
    {
     "name": "stdout",
     "output_type": "stream",
     "text": [
      "{\"published_parsed\": [2017, 6, 24, 7, 8, 32, 5, 175, 0], \"summary\": \"Filip og Jakob Ingebrigtsen var veldig viktige for at Norge skal rykke opp til \\u00f8verste niv\\u00e5 i lag-EM. N\\u00e5 setter en kansellert fly en stopper for duoens deltakelse i Finland.\", \"link\": \"https://www.nrk.no/sport/ingebrigtsen-brodrene-rakk-ikke-frem-til-lag-em-1.13574361\", \"published\": \"Sat, 24 Jun 2017 07:08:32 GMT\"}\n"
     ]
    }
   ],
   "source": [
    "dataTestJson = json.dumps(dataTest)\n",
    "print(dataTestJson)"
   ]
  },
  {
   "cell_type": "code",
   "execution_count": 39,
   "metadata": {},
   "outputs": [
    {
     "data": {
      "text/plain": [
       "{'link': 'https://www.nrk.no/sport/ingebrigtsen-brodrene-rakk-ikke-frem-til-lag-em-1.13574361',\n",
       " 'published': 'Sat, 24 Jun 2017 07:08:32 GMT',\n",
       " 'published_parsed': [2017, 6, 24, 7, 8, 32, 5, 175, 0],\n",
       " 'summary': 'Filip og Jakob Ingebrigtsen var veldig viktige for at Norge skal rykke opp til øverste nivå i lag-EM. Nå setter en kansellert fly en stopper for duoens deltakelse i Finland.'}"
      ]
     },
     "execution_count": 39,
     "metadata": {},
     "output_type": "execute_result"
    }
   ],
   "source": [
    "parsed_json = json.loads(dataTestJson)\n",
    "parsed_json"
   ]
  },
  {
   "cell_type": "code",
   "execution_count": 46,
   "metadata": {},
   "outputs": [],
   "source": [
    "import newspaper\n",
    "cnn_paper = newspaper.build('http://www.breitbart.com/')"
   ]
  },
  {
   "cell_type": "code",
   "execution_count": 47,
   "metadata": {},
   "outputs": [
    {
     "name": "stdout",
     "output_type": "stream",
     "text": [
      "http://www.breitbart.com/national-security/2017/06/23/china-bans-social-media-live-video-for-negative-speech/#disqus_thread\n",
      "http://www.breitbart.com/tech/2017/06/23/university-of-delaware-professor-otto-warmbier-got-exactly-what-he-deserved/#disqus_thread\n",
      "http://www.breitbart.com/national-security/2017/06/22/turkey-us-will-take-weapons-back-from-kurds-after-isis-defeated/#disqus_thread\n",
      "http://www.breitbart.com/london/2017/06/23/london-pride-surrounded-concrete-road-blocks-attacks-way-life/\n",
      "http://www.breitbart.com/big-government/2017/06/23/donald-trump-robert-mueller-friendship-with-james-comey-bothersome/\n",
      "http://www.breitbart.com/big-government/2017/06/23/loretta-lynch-clinton-campaign-soros-officials-all-caught-up-in-senate-probe-of-comey-firing/\n",
      "http://www.breitbart.com/big-government/2017/06/23/very-fake-news-cnn-pushes-refurbished-russia-conspiracy-inaccurately-claims-investment-fund-under-investigation/\n",
      "http://www.breitbart.com/video/2017/06/23/paul-insurance-available-1-day-current-plan-predicated-propping-insurance-companies/#disqus_thread\n",
      "http://www.breitbart.com/national-security/2017/06/22/north-korea-trump-psychopath-wants-war-distract-tough-situation-home/#disqus_thread\n",
      "http://www.breitbart.com/2016-presidential-race/2017/06/22/sanders-i-will-do-all-i-can-to-defeat-trump-ryan-health-care-bill/#disqus_thread\n",
      "http://www.breitbart.com/big-government/2017/06/22/dhs-john-kelly-islamic-terrorists-sincere-regulate-internet/#disqus_thread\n",
      "http://www.breitbart.com/video/2017/06/23/brokaw-gop-organized-moving-forward-views-not-best-interests-country/\n",
      "http://www.breitbart.com/big-government/2017/06/22/pamela-geller-the-coming-civil-war/#disqus_thread\n",
      "http://www.breitbart.com/big-government/2017/06/23/nyt-op-ed-democratic-senators-brush-off-women-witnesses-islam/\n",
      "http://www.breitbart.com/tech/2017/06/22/waymo-claims-former-uber-ceo-was-aware-engineer-took-google-info/\n",
      "http://www.breitbart.com/tech/2017/06/23/hands-on-with-total-war-warhammer-ii-at-e3-new-races-are-the-highlight-in-this-grand-strategy-sequel/#disqus_thread\n",
      "http://www.breitbart.com/big-government/2017/06/23/trump-sad-day-republicans-if-pelosi-steps-down/#disqus_thread\n",
      "http://www.breitbart.com/big-government/2017/06/23/very-fake-news-cnn-pushes-refurbished-russia-conspiracy-inaccurately-claims-investment-fund-under-investigation/#disqus_thread\n",
      "http://www.breitbart.com/2nd-amendment/2017/06/23/fbi-alexandria-report-undermines-democrats-gun-control-dreams/\n",
      "http://www.breitbart.com/national-security/2017/06/22/north-korea-trump-psychopath-wants-war-distract-tough-situation-home/\n",
      "http://www.breitbart.com/big-government/2017/06/23/white-house-calls-for-actors-to-condemn-johnny-depp-assassination-comment/\n",
      "http://www.breitbart.com/london/2017/06/23/london-pride-surrounded-concrete-road-blocks-attacks-way-life/#disqus_thread\n",
      "http://www.breitbart.com/national-security/2017/06/23/ramadan-message-taliban-vows-to-keep-fighting-until-u-s-occupation-of-afghanistan-comes-to-an-end/\n",
      "http://www.breitbart.com/big-government/2017/06/23/national-reciprocity-america-first-must-replace-congress-first/\n",
      "http://www.breitbart.com/video/2017/06/23/maher-the-best-thing-you-can-do-for-the-environment-is-not-produce-another-resource-sucking-human/#disqus_thread\n",
      "http://www.breitbart.com/london/2017/06/23/anniversary-britains-independence-day-brexit-barely-left-starting-blocks/\n",
      "http://www.breitbart.com/national-security/2017/06/23/ramadan-message-taliban-vows-to-keep-fighting-until-u-s-occupation-of-afghanistan-comes-to-an-end/#disqus_thread\n",
      "http://www.breitbart.com/tech/2017/06/23/university-of-delaware-professor-otto-warmbier-got-exactly-what-he-deserved/\n",
      "http://www.breitbart.com/tech/2017/06/22/hands-on-with-assassins-creed-origins-at-e3-ubisofts-adventure-in-ancient-egypt-feels-like-a-step-backwards/#disqus_thread\n",
      "http://www.breitbart.com/2016-presidential-race/2017/06/22/sanders-i-will-do-all-i-can-to-defeat-trump-ryan-health-care-bill/\n",
      "http://www.breitbart.com/london/2017/06/23/macron-accuses-countries-resisting-mass-immigration-betraying-eu/\n",
      "http://www.breitbart.com/sports/2017/06/23/instagram-fitness-star-dies-whipped-cream-canister-explodes-chest/#disqus_thread\n",
      "http://www.breitbart.com/news/apnewsbreak-military-heads-want-transgender-enlistment-hold/\n",
      "http://www.breitbart.com/tech/2017/06/22/waymo-claims-former-uber-ceo-was-aware-engineer-took-google-info/#disqus_thread\n",
      "http://www.breitbart.com/texas/2017/06/22/california-attacks-texas-travel-ban-alleged-lgbt-discrimination/\n",
      "http://www.breitbart.com/big-government/2017/06/20/georgia-special-election-livewire-democrat-ossoff-versus-republican-handel/#disqus_thread\n",
      "http://www.breitbart.com/national-security/2017/06/23/dennis-rodman-claims-otto-warmbier-release-an-outcome-his-trip-north-korea/\n",
      "http://www.breitbart.com/big-government/2017/06/22/exclusive-sen-rand-paul-on-senate-healthcare-legislation-i-think-the-bill-looks-too-much-like-obamacare/\n",
      "http://www.breitbart.com/big-government/2017/06/23/very-fake-news-after-breitbart-investigation-cnn-retracts-conspiracy-theory-hit-piece-attacking-trump-associates-over-russian-fund/\n",
      "http://www.breitbart.com/video/2017/06/23/paul-insurance-available-1-day-current-plan-predicated-propping-insurance-companies/\n",
      "http://www.breitbart.com/video/2017/06/23/ann-coulter-gop-health-care-bill-total-disaster-obamacare-lite/#disqus_thread\n",
      "http://www.breitbart.com/big-hollywood/2017/06/22/johnny-depp-last-time-actor-assassinated-president/#disqus_thread\n",
      "http://www.breitbart.com/video/2017/06/22/rand-senate-healthcare-bill-may-be-obamacare-plus-on-subsidies-subsidizes-the-death-spiral/\n",
      "http://www.breitbart.com/big-hollywood/2017/06/22/hbos-john-oliver-hit-with-defamation-suit-by-coal-companies/\n",
      "http://www.breitbart.com/big-government/2017/06/23/donald-trump-wants-a-deal-with-senators-cruz-paul-lee-and-johnson-on-health-care/\n",
      "http://www.breitbart.com/national-security/2017/06/22/otto-warmbiers-family-kept-sons-jewish-faith-secret-officials-negotiate-release-north-korea/#disqus_thread\n",
      "http://www.breitbart.com/tech/2017/06/22/facebooks-new-mission-bringing-the-world-closer-together/#disqus_thread\n",
      "http://www.breitbart.com/sports/2017/06/22/five-seattles-pro-sports-teams-cooperate-celebrate-pride-month/\n",
      "http://www.breitbart.com/news/ivanka-trump-ordered-to-testify-in-dispute-with-shoe-company/#disqus_thread\n",
      "http://www.breitbart.com/national-security/2017/06/22/taliban-video-allegedly-shows-u-s-hostage-begging-trump-to-negotiate-prisoner-swap-have-mercy-on-me/\n",
      "http://www.breitbart.com/big-government/2017/06/22/dhs-john-kelly-islamic-terrorists-sincere-regulate-internet/\n",
      "http://www.breitbart.com/2nd-amendment/2017/06/23/fbi-alexandria-report-undermines-democrats-gun-control-dreams/#disqus_thread\n",
      "http://www.breitbart.com/video/2017/06/23/well-never-make-you-sick-of-winning-maher-reads-satirical-democratic-party-slogans/#disqus_thread\n",
      "http://www.breitbart.com/tech/2017/06/23/hands-on-with-total-war-warhammer-ii-at-e3-new-races-are-the-highlight-in-this-grand-strategy-sequel/\n",
      "http://www.breitbart.com/london/2017/06/23/turkey-slams-german-mosque-bringing-men-women-gay-together-incompatible-islam/\n",
      "http://www.breitbart.com/big-government/2017/06/23/nebraska-democratic-official-fired-saying-wishes-steve-scalise-dead-im-glad-got-shot/\n",
      "http://www.breitbart.com/big-government/2017/06/23/hillary-clinton-gop-party-of-death/#disqus_thread\n",
      "http://www.breitbart.com/big-journalism/2017/06/23/washington-post-spy-fiction-obama-fight-against-russian-hackers/#disqus_thread\n",
      "http://www.breitbart.com/video/2017/06/22/sean-hannity-offers-to-pay-for-therapy-for-joe-scarborough-mika-brzezinski/\n",
      "http://www.breitbart.com/sports/2017/06/23/jets-owner-woody-johnson-to-become-u-s-ambassador-to-great-britain/#disqus_thread\n",
      "http://www.breitbart.com/big-government/2017/06/22/freedomworks-adam-brandon-the-senate-bill-is-an-amendment-to-obamacare-not-a-repeal-of-it/#disqus_thread\n",
      "http://www.breitbart.com/texas/2017/06/23/mexico-trump-american-drug-demand-causes-cartel-violence/#disqus_thread\n",
      "http://www.breitbart.com/national-security/2017/06/22/taliban-video-allegedly-shows-u-s-hostage-begging-trump-to-negotiate-prisoner-swap-have-mercy-on-me/#disqus_thread\n",
      "http://www.breitbart.com/sports/2017/06/22/five-seattles-pro-sports-teams-cooperate-celebrate-pride-month/#disqus_thread\n",
      "http://www.breitbart.com/big-government/2017/06/23/200-plus-teens-erupt-massive-brawl-near-ohio-amusement-park/\n",
      "http://www.breitbart.com/big-government/2017/06/23/trump-sad-day-republicans-if-pelosi-steps-down/\n",
      "http://www.breitbart.com/video/2017/06/23/dem-rep-joked-kellyanne-conway-knees-sexism-plays-well-south/#disqus_thread\n",
      "http://www.breitbart.com/big-government/2017/06/20/georgia-special-election-livewire-democrat-ossoff-versus-republican-handel/\n",
      "http://www.breitbart.com/texas/2017/06/22/california-attacks-texas-travel-ban-alleged-lgbt-discrimination/#disqus_thread\n",
      "http://www.breitbart.com/texas/2017/06/23/soros-lawyers-fail-prevent-deportation-alleged-illegal-immigrant-gang-member/\n",
      "http://www.breitbart.com/jerusalem/2017/06/23/idf-iran-paying-195-million-annually-fund-anti-israel-terrorist-groups/\n",
      "http://www.breitbart.com/video/2017/06/23/cnns-john-king-fox-friends-is-state-tv/\n",
      "http://www.breitbart.com/big-government/2017/06/22/study-noncitizens-may-voted-illegally-elections-previously-thought/#disqus_thread\n",
      "http://www.breitbart.com/big-government/2017/06/23/nancy-pelosi-aides-seek-to-drum-up-backing-with-supportive-tweets-standwithnancy/#disqus_thread\n",
      "http://www.breitbart.com/big-government/2017/06/22/sex-offender-allegedly-rape-seven-year-old/#disqus_thread\n",
      "http://www.breitbart.com/london/2017/06/23/turkey-slams-german-mosque-bringing-men-women-gay-together-incompatible-islam/#disqus_thread\n",
      "http://www.breitbart.com/big-hollywood/2017/06/22/hbos-john-oliver-hit-with-defamation-suit-by-coal-companies/#disqus_thread\n",
      "http://www.breitbart.com/jerusalem/2017/06/23/netanyahu-okays-new-homes-beit-el-jewish-community-west-bank/\n",
      "http://www.breitbart.com/video/2017/06/22/rand-senate-healthcare-bill-may-be-obamacare-plus-on-subsidies-subsidizes-the-death-spiral/#disqus_thread\n",
      "http://www.breitbart.com/national-security/2017/06/22/watch-video-purportedly-shows-turkish-man-hitting-woman-for-wearing-shorts-during-ramadan/\n",
      "http://www.breitbart.com/jerusalem/2017/06/23/report-pa-president-abbas-fuming-jared-kushner-demand-stop-paying-terrorists/#disqus_thread\n",
      "http://www.breitbart.com/national-security/2017/06/22/turkey-us-will-take-weapons-back-from-kurds-after-isis-defeated/\n",
      "http://www.breitbart.com/big-government/2017/06/23/gop-senatorial-committee-warns-liberal-candidate-democrats-are-abandoning-pelosi-in-droves/\n",
      "http://www.breitbart.com/jerusalem/2017/06/23/palestinian-authority-payments-terrorists-social-responsibility/\n",
      "http://www.breitbart.com/big-government/2017/06/23/nuclear-option-speaker-ryan-afraid-lead/#disqus_thread\n",
      "http://www.breitbart.com/big-government/2017/06/22/transgender-pregnant-mom-insists-man/\n",
      "http://www.breitbart.com/big-government/2017/06/22/freedomworks-adam-brandon-the-senate-bill-is-an-amendment-to-obamacare-not-a-repeal-of-it/\n",
      "http://www.breitbart.com/london/2017/06/23/champs-elysee-attacker-may-plotting-attack-eiffel-tower/\n",
      "http://www.breitbart.com/london/2017/06/23/austrian-fpo-leader-move-austrian-embassy-israel-jerusalem/#disqus_thread\n",
      "http://www.breitbart.com/video/2017/06/23/dem-rep-joked-kellyanne-conway-knees-sexism-plays-well-south/\n",
      "http://www.breitbart.com/big-government/2017/06/22/sex-offender-allegedly-rape-seven-year-old/\n",
      "http://www.breitbart.com/big-government/2017/06/23/trump-trolls-media-three-unanswered-questions-dems-russia/#disqus_thread\n",
      "http://www.breitbart.com/national-security/2017/06/22/watch-video-purportedly-shows-turkish-man-hitting-woman-for-wearing-shorts-during-ramadan/#disqus_thread\n",
      "http://www.breitbart.com/london/2017/06/22/bbc-apologies-islamist-call-maajid-nawaz-douglas-murray-hate-preachers/#disqus_thread\n",
      "http://www.breitbart.com/big-hollywood/2017/06/23/nasa-calls-bs-on-gwyneth-paltrows-latest-goop-product/\n",
      "http://www.breitbart.com/national-security/2017/06/23/dennis-rodman-claims-otto-warmbier-release-an-outcome-his-trip-north-korea/#disqus_thread\n",
      "http://www.breitbart.com/california/2017/06/23/los-angeles-wants-to-rename-rode-road-obama-boulevard/#disqus_thread\n",
      "http://www.breitbart.com/big-journalism/2017/06/23/washington-post-spy-fiction-obama-fight-against-russian-hackers/\n",
      "http://www.breitbart.com/radio/2017/06/23/heritage-senate-health-care-bill-falls-short-on-repealing-obamacare-does-contain-some-positives/#disqus_thread\n",
      "http://www.breitbart.com/big-government/2017/06/23/nyt-op-ed-democratic-senators-brush-off-women-witnesses-islam/#disqus_thread\n",
      "http://www.breitbart.com/big-hollywood/2017/06/23/johnny-depp-apologizes-for-trump-assassination-barb-after-white-house-condemns/\n",
      "http://www.breitbart.com/tech/2017/06/22/hands-on-with-far-cry-5-at-e3-open-world-guerrilla-warfare-shooter-comes-to-the-u-s/\n",
      "http://www.breitbart.com/big-hollywood/2017/06/22/celebrities-shred-gop-healthcare-bill-the-cost-will-be-human-lives/#disqus_thread\n",
      "http://www.breitbart.com/tech/2017/06/22/facebooks-new-mission-bringing-the-world-closer-together/\n",
      "http://www.breitbart.com/big-government/2017/06/23/donald-trump-robert-mueller-friendship-with-james-comey-bothersome/#disqus_thread\n",
      "http://www.breitbart.com/jerusalem/2017/06/23/study-support-for-israel-on-u-s-college-campus-drops-by-devastating-27/\n",
      "http://www.breitbart.com/big-government/2017/06/23/cops-woman-bites-employee-steal-stripper-pole/#disqus_thread\n",
      "http://www.breitbart.com/big-government/2017/06/23/gop-senatorial-committee-warns-liberal-candidate-democrats-are-abandoning-pelosi-in-droves/#disqus_thread\n",
      "http://www.breitbart.com/video/2017/06/23/krauthammer-witness-intimidation-charges-against-trump-pure-rubbish-dems-are-getting-desperate/\n",
      "http://www.breitbart.com/big-government/2017/06/22/lisa-murkowski-havent-seen-healthcare-bill-because-not-reporter-lobbyist/\n",
      "http://www.breitbart.com/london/2017/06/23/sadiq-khan-refuses-commit-support-banning-hezbollah-terror-group/\n",
      "http://www.breitbart.com/london/2017/06/23/sadiq-khan-refuses-commit-support-banning-hezbollah-terror-group/#disqus_thread\n",
      "http://www.breitbart.com/sports/2017/06/23/instagram-fitness-star-dies-whipped-cream-canister-explodes-chest/\n",
      "http://www.breitbart.com/video/2017/06/23/brokaw-gop-organized-moving-forward-views-not-best-interests-country/#disqus_thread\n",
      "http://www.breitbart.com/big-government/2017/06/22/job-creators-network-gop-special-election-proof-america-wants-trumps-job-creation-agenda/\n",
      "http://www.breitbart.com/video/2017/06/23/maher-the-best-thing-you-can-do-for-the-environment-is-not-produce-another-resource-sucking-human/\n",
      "http://www.breitbart.com/jerusalem/2017/06/23/netanyahu-okays-new-homes-beit-el-jewish-community-west-bank/#disqus_thread\n",
      "http://www.breitbart.com/tech/2017/06/23/diane-feinstein-defends-public-universities-shutting-down-free-speech/\n",
      "http://www.breitbart.com/big-government/2017/06/23/fifth-gop-senator-opposes-new-senate-leadership-health-care-bill/\n",
      "http://www.breitbart.com/national-security/2017/06/22/otto-warmbiers-family-kept-sons-jewish-faith-secret-officials-negotiate-release-north-korea/\n",
      "http://www.breitbart.com/big-government/2017/06/23/republican-lawmakers-call-for-investigation-into-james-comey-and-robert-mueller/#disqus_thread\n",
      "http://www.breitbart.com/big-government/2017/06/23/grassley-schumer-knew-trump-wasnt-under-investigation-said-he-was/#disqus_thread\n",
      "http://www.breitbart.com/video/2017/06/23/krauthammer-witness-intimidation-charges-against-trump-pure-rubbish-dems-are-getting-desperate/#disqus_thread\n",
      "http://www.breitbart.com/video/2017/06/23/roland-martin-black-people-are-tired-of-being-democrats-side-piece-and-political-sharecroppers/#disqus_thread\n",
      "http://www.breitbart.com/video/2017/06/22/sean-hannity-offers-to-pay-for-therapy-for-joe-scarborough-mika-brzezinski/#disqus_thread\n",
      "http://www.breitbart.com/sports/2017/06/23/jets-owner-woody-johnson-to-become-u-s-ambassador-to-great-britain/\n",
      "http://www.breitbart.com/big-government/2017/06/23/republican-lawmakers-call-for-investigation-into-james-comey-and-robert-mueller/\n",
      "http://www.breitbart.com/london/2017/06/23/macron-accuses-countries-resisting-mass-immigration-betraying-eu/#disqus_thread\n",
      "http://www.breitbart.com/big-government/2017/06/23/barack-obama-plans-return-campaign-trail-save-democrats/#disqus_thread\n",
      "http://www.breitbart.com/pre-viral/2017/06/22/instagram-fitness-star-killed-exploding-whipped-cream-container/\n",
      "http://www.breitbart.com/big-government/2017/06/23/very-fake-news-after-breitbart-investigation-cnn-retracts-conspiracy-theory-hit-piece-attacking-trump-associates-over-russian-fund/#disqus_thread\n",
      "http://www.breitbart.com/big-hollywood/2017/06/23/nasa-calls-bs-on-gwyneth-paltrows-latest-goop-product/#disqus_thread\n",
      "http://www.breitbart.com/big-government/2017/06/23/trump-administration-investigate-school-personnel-fail-use-trans-students-preferred-pronouns/\n",
      "http://www.breitbart.com/pre-viral/2017/06/22/instagram-fitness-star-killed-exploding-whipped-cream-container/#disqus_thread\n",
      "http://www.breitbart.com/big-government/2017/06/23/grassley-schumer-knew-trump-wasnt-under-investigation-said-he-was/\n",
      "http://www.breitbart.com/big-government/2017/06/22/pamela-geller-the-coming-civil-war/\n",
      "http://www.breitbart.com/national-security/2017/06/22/federal-contractor-arrested-leaking-secrets-china/\n",
      "http://www.breitbart.com/big-hollywood/2017/06/23/johnny-depp-apologizes-for-trump-assassination-barb-after-white-house-condemns/#disqus_thread\n",
      "http://www.breitbart.com/big-government/2017/06/23/dirty-old-santa-arranged-sex-meetup-teenager/\n",
      "http://www.breitbart.com/big-hollywood/2017/06/23/sammy-hagar-on-trump-crazy-opposition-wont-give-him-a-chance-to-lead/#disqus_thread\n",
      "http://www.breitbart.com/big-government/2017/06/23/white-house-calls-for-actors-to-condemn-johnny-depp-assassination-comment/#disqus_thread\n",
      "http://www.breitbart.com/tech/2017/06/22/hands-on-with-far-cry-5-at-e3-open-world-guerrilla-warfare-shooter-comes-to-the-u-s/#disqus_thread\n",
      "http://www.breitbart.com/big-government/2017/06/23/donald-trump-wants-a-deal-with-senators-cruz-paul-lee-and-johnson-on-health-care/#disqus_thread\n",
      "http://www.breitbart.com/big-government/2017/06/23/nuclear-option-speaker-ryan-afraid-lead/\n",
      "http://www.breitbart.com/national-security/2017/06/23/china-bans-social-media-live-video-for-negative-speech/\n",
      "http://www.breitbart.com/jerusalem/2017/06/23/palestinian-authority-payments-terrorists-social-responsibility/#disqus_thread\n",
      "http://www.breitbart.com/london/2017/06/23/champs-elysee-attacker-may-plotting-attack-eiffel-tower/#disqus_thread\n",
      "http://www.breitbart.com/big-government/2017/06/23/fifth-gop-senator-opposes-new-senate-leadership-health-care-bill/#disqus_thread\n",
      "http://www.breitbart.com/jerusalem/2017/06/23/report-pa-president-abbas-fuming-jared-kushner-demand-stop-paying-terrorists/\n",
      "http://www.breitbart.com/big-government/2017/06/23/nancy-pelosi-aides-seek-to-drum-up-backing-with-supportive-tweets-standwithnancy/\n",
      "http://www.breitbart.com/london/2017/06/23/anniversary-britains-independence-day-brexit-barely-left-starting-blocks/#disqus_thread\n",
      "http://www.breitbart.com/big-government/2017/06/22/transgender-pregnant-mom-insists-man/#disqus_thread\n",
      "http://www.breitbart.com/video/2017/06/23/roland-martin-black-people-are-tired-of-being-democrats-side-piece-and-political-sharecroppers/\n",
      "http://www.breitbart.com/big-government/2017/06/22/exclusive-sen-rand-paul-on-senate-healthcare-legislation-i-think-the-bill-looks-too-much-like-obamacare/#disqus_thread\n",
      "http://www.breitbart.com/jerusalem/2017/06/23/idf-iran-paying-195-million-annually-fund-anti-israel-terrorist-groups/#disqus_thread\n",
      "http://www.breitbart.com/big-government/2017/06/22/study-noncitizens-may-voted-illegally-elections-previously-thought/\n",
      "http://www.breitbart.com/video/2017/06/23/well-never-make-you-sick-of-winning-maher-reads-satirical-democratic-party-slogans/\n",
      "http://www.breitbart.com/tech/2017/06/23/milos-coming-conservative-event-cancelled-restaurant-following-protests/\n",
      "http://www.breitbart.com/big-government/2017/06/22/lisa-murkowski-havent-seen-healthcare-bill-because-not-reporter-lobbyist/#disqus_thread\n",
      "http://www.breitbart.com/radio/2017/06/23/heritage-senate-health-care-bill-falls-short-on-repealing-obamacare-does-contain-some-positives/\n",
      "http://www.breitbart.com/big-government/2017/06/22/mike-pence-president-trump-is-restoring-u-s-leadership-in-the-free-world-by-putting-america-first/\n",
      "http://www.breitbart.com/tech/2017/06/23/milos-coming-conservative-event-cancelled-restaurant-following-protests/#disqus_thread\n",
      "http://www.breitbart.com/big-government/2017/06/23/loretta-lynch-clinton-campaign-soros-officials-all-caught-up-in-senate-probe-of-comey-firing/#disqus_thread\n",
      "http://www.breitbart.com/big-hollywood/2017/06/23/sammy-hagar-on-trump-crazy-opposition-wont-give-him-a-chance-to-lead/\n",
      "http://www.breitbart.com/big-government/2017/06/23/200-plus-teens-erupt-massive-brawl-near-ohio-amusement-park/#disqus_thread\n",
      "http://www.breitbart.com/big-government/2017/06/22/job-creators-network-gop-special-election-proof-america-wants-trumps-job-creation-agenda/#disqus_thread\n",
      "http://www.breitbart.com/big-government/2017/06/23/dirty-old-santa-arranged-sex-meetup-teenager/#disqus_thread\n",
      "http://www.breitbart.com/big-hollywood/2017/06/22/celebrities-shred-gop-healthcare-bill-the-cost-will-be-human-lives/\n",
      "http://www.breitbart.com/big-government/2017/06/23/hillary-clinton-gop-party-of-death/\n",
      "http://www.breitbart.com/big-government/2017/06/23/cops-woman-bites-employee-steal-stripper-pole/\n",
      "http://www.breitbart.com/big-government/2017/06/22/mike-pence-president-trump-is-restoring-u-s-leadership-in-the-free-world-by-putting-america-first/#disqus_thread\n",
      "http://www.breitbart.com/news/apnewsbreak-military-heads-want-transgender-enlistment-hold/#disqus_thread\n",
      "http://www.breitbart.com/big-government/2017/06/23/trump-trolls-media-three-unanswered-questions-dems-russia/\n",
      "http://www.breitbart.com/big-government/2017/06/23/nebraska-democratic-official-fired-saying-wishes-steve-scalise-dead-im-glad-got-shot/#disqus_thread\n",
      "http://www.breitbart.com/london/2017/06/22/bbc-apologies-islamist-call-maajid-nawaz-douglas-murray-hate-preachers/\n",
      "http://www.breitbart.com/video/2017/06/23/warriors-steve-kerr-on-potential-white-house-visit-it-could-have-really-positive-ramifications-if-we-did-go/#disqus_thread\n",
      "http://www.breitbart.com/big-hollywood/2017/06/22/johnny-depp-last-time-actor-assassinated-president/\n",
      "http://www.breitbart.com/jerusalem/2017/06/23/study-support-for-israel-on-u-s-college-campus-drops-by-devastating-27/#disqus_thread\n",
      "http://www.breitbart.com/california/2017/06/23/los-angeles-wants-to-rename-rode-road-obama-boulevard/\n",
      "http://www.breitbart.com/texas/2017/06/23/outsourcing-firm-infosys-discriminates-favor-indians-says-lawsuit/\n",
      "http://www.breitbart.com/big-government/2017/06/23/barack-obama-plans-return-campaign-trail-save-democrats/\n",
      "http://www.breitbart.com/texas/2017/06/23/soros-lawyers-fail-prevent-deportation-alleged-illegal-immigrant-gang-member/#disqus_thread\n",
      "http://www.breitbart.com/big-government/2017/06/23/national-reciprocity-america-first-must-replace-congress-first/#disqus_thread\n",
      "http://www.breitbart.com/london/2017/06/23/theresa-may-says-3-million-eu-migrants-can-stay/\n",
      "http://www.breitbart.com/london/2017/06/23/austrian-fpo-leader-move-austrian-embassy-israel-jerusalem/\n",
      "http://www.breitbart.com/news/ivanka-trump-ordered-to-testify-in-dispute-with-shoe-company/\n",
      "http://www.breitbart.com/national-security/2017/06/22/federal-contractor-arrested-leaking-secrets-china/#disqus_thread\n",
      "http://www.breitbart.com/tech/2017/06/22/hands-on-with-assassins-creed-origins-at-e3-ubisofts-adventure-in-ancient-egypt-feels-like-a-step-backwards/\n",
      "http://www.breitbart.com/video/2017/06/23/warriors-steve-kerr-on-potential-white-house-visit-it-could-have-really-positive-ramifications-if-we-did-go/\n",
      "http://www.breitbart.com/radio/2017/06/23/bolton-trump-right-place-north-korea-state-dept-continues-25-years-failed-policy/\n",
      "http://www.breitbart.com/big-government/2017/06/23/trump-administration-investigate-school-personnel-fail-use-trans-students-preferred-pronouns/#disqus_thread\n",
      "http://www.breitbart.com/texas/2017/06/23/mexico-trump-american-drug-demand-causes-cartel-violence/\n",
      "http://www.breitbart.com/london/2017/06/23/theresa-may-says-3-million-eu-migrants-can-stay/#disqus_thread\n",
      "http://www.breitbart.com/video/2017/06/23/cnns-john-king-fox-friends-is-state-tv/#disqus_thread\n",
      "http://www.breitbart.com/video/2017/06/23/ann-coulter-gop-health-care-bill-total-disaster-obamacare-lite/\n",
      "http://www.breitbart.com/tech/2017/06/23/diane-feinstein-defends-public-universities-shutting-down-free-speech/#disqus_thread\n",
      "http://www.breitbart.com/radio/2017/06/23/bolton-trump-right-place-north-korea-state-dept-continues-25-years-failed-policy/#disqus_thread\n",
      "http://www.breitbart.com/texas/2017/06/23/outsourcing-firm-infosys-discriminates-favor-indians-says-lawsuit/#disqus_thread\n"
     ]
    }
   ],
   "source": [
    "for article in cnn_paper.articles:\n",
    "    print(article.url)"
   ]
  },
  {
   "cell_type": "code",
   "execution_count": 48,
   "metadata": {},
   "outputs": [
    {
     "name": "stdout",
     "output_type": "stream",
     "text": [
      "http://www.breitbart.com/\n",
      "http://www.breitbart.com/send-a-tip\n",
      "http://www.breitbart.com/podcasts\n",
      "http://www.breitbart.com\n"
     ]
    }
   ],
   "source": [
    "for category in cnn_paper.category_urls():\n",
    "    print(category)"
   ]
  },
  {
   "cell_type": "code",
   "execution_count": 49,
   "metadata": {
    "collapsed": true
   },
   "outputs": [],
   "source": [
    "from newspaper import Article"
   ]
  },
  {
   "cell_type": "code",
   "execution_count": 55,
   "metadata": {},
   "outputs": [
    {
     "data": {
      "text/plain": [
       "['Matthew Boyle']"
      ]
     },
     "execution_count": 55,
     "metadata": {},
     "output_type": "execute_result"
    }
   ],
   "source": [
    "article = Article('http://www.breitbart.com/big-government/2017/06/23/very-fake-news-after-breitbart-investigation-cnn-retracts-conspiracy-theory-hit-piece-attacking-trump-associates-over-russian-fund/')\n",
    "article.download()\n",
    "article.parse()\n",
    "article.authors"
   ]
  },
  {
   "cell_type": "code",
   "execution_count": null,
   "metadata": {
    "collapsed": true
   },
   "outputs": [],
   "source": []
  },
  {
   "cell_type": "code",
   "execution_count": 57,
   "metadata": {
    "collapsed": true
   },
   "outputs": [],
   "source": []
  },
  {
   "cell_type": "code",
   "execution_count": null,
   "metadata": {
    "collapsed": true
   },
   "outputs": [],
   "source": []
  },
  {
   "cell_type": "code",
   "execution_count": null,
   "metadata": {
    "collapsed": true
   },
   "outputs": [],
   "source": []
  }
 ],
 "metadata": {
  "kernelspec": {
   "display_name": "Python 3",
   "language": "python",
   "name": "python3"
  },
  "language_info": {
   "codemirror_mode": {
    "name": "ipython",
    "version": 3
   },
   "file_extension": ".py",
   "mimetype": "text/x-python",
   "name": "python",
   "nbconvert_exporter": "python",
   "pygments_lexer": "ipython3",
   "version": "3.5.3"
  }
 },
 "nbformat": 4,
 "nbformat_minor": 1
}
